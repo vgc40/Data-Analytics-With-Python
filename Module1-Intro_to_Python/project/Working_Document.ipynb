{
 "cells": [
  {
   "cell_type": "code",
   "execution_count": 1,
   "id": "31e3952b-3cf6-4f05-a444-dd45bfd17dc5",
   "metadata": {},
   "outputs": [],
   "source": [
    "file = open(\"project/covtype.data\")\n",
    "\n",
    "COLUMNS = {\n",
    "    0: 'Elevation',\n",
    "    1: 'Aspect',\n",
    "    2: 'Slope',\n",
    "    3: 'Horizontal_Distance_To_Hydrology',\n",
    "    4: 'Vertical_Distance_To_Hydrology',\n",
    "    5: 'Horizontal_Distance_To_Roadways',\n",
    "    6: 'Hillshade_9am',\n",
    "    7: 'Hillshade_Noon',\n",
    "    8: 'Hillshade_3pm',\n",
    "    9: 'Horizontal_Distance_To_Fire_Points'\n",
    "}\n",
    "\n",
    "line = file.readline().split(\",\") # Reads a line\n",
    "c0 = float(line[0]) # Column 1 Row 1\n",
    "c1 = float(line[1])\n",
    "c2 = float(line[2])\n",
    "c3 = float(line[3])\n",
    "c4 = float(line[4])\n",
    "c5 = float(line[5])\n",
    "c6 = float(line[6])\n",
    "c7 = float(line[7])\n",
    "c8 = float(line[8])\n",
    "c9 = float(line[9])\n",
    "\n",
    "# Step 2. Create a list that we can append on un a loop by reading in the sedond line and appending the numbers form the Step 1\n",
    "line1 = file.readline().split(\",\") # Reads a line\n",
    "c0 = [c0,float(line1[0])] # Column 1 row 2\n",
    "c1 = [c1,float(line1[1])]\n",
    "c2 = [c2,float(line1[2])]\n",
    "c3 = [c3,float(line1[3])]\n",
    "c4 = [c4,float(line1[4])]\n",
    "c5 = [c5,float(line1[5])]\n",
    "c6 = [c6,float(line1[6])]\n",
    "c7 = [c7,float(line1[7])]\n",
    "c8 = [c8,float(line1[8])]\n",
    "c9 = [c9,float(line1[9])]\n",
    "      \n",
    "\n",
    "# Step 3. Now that we have created a list of integers in the previous steps we can use a loop to make append to the list all the values in the rest of the rows\n",
    "for rows in file: \n",
    "    line2 = rows.split(\",\") # Reads a line\n",
    "    c0.append(float(line2[0])) # Append to the c0 list the value in column one and row = rows\n",
    "    c1.append(float(line2[1]))\n",
    "    c2.append(float(line2[2]))\n",
    "    c3.append(float(line2[3]))\n",
    "    c4.append(float(line2[4]))\n",
    "    c5.append(float(line2[5]))\n",
    "    c6.append(float(line2[6]))\n",
    "    c7.append(float(line2[7]))\n",
    "    c8.append(float(line2[8]))\n",
    "    c9.append(float(line2[9]))\n",
    "\n",
    "# Step 4. Create a dunction that calculates the Min, Max and Mean for each of the colums\n",
    "\n",
    "def stats(cx):\n",
    "    '''\n",
    "    This function allows you to calculate min, max and mmean values of a list of integers\n",
    "    \n",
    "    Parameters\n",
    "    ----------\n",
    "    cx : int\n",
    "        List of integers\n",
    "  \n",
    "    Returns\n",
    "    -------\n",
    "    minx : int\n",
    "        Minimun value\n",
    "    maxx : int \n",
    "        Maximun value\n",
    "    meanx : int\n",
    "        Mean value\n",
    "    '''\n",
    "    minx = round(min(cx),2) # Use Python pre-made function for minimun value in a list\n",
    "    maxx = round(max(cx),2) # Use Python pre-made function for maximun value in a list\n",
    "    meanx = round(sum(cx)/len(cx),2) # Calculate mean as the sum of all the values in the list divided by the lenght of the list\n",
    "    # Note I use the round function to control for signifucant digits printed\n",
    "    return minx,maxx,meanx\n",
    "\n",
    "file.close()"
   ]
  },
  {
   "cell_type": "code",
   "execution_count": 2,
   "id": "9e919356-79cc-4137-b5d0-3298189b5930",
   "metadata": {},
   "outputs": [],
   "source": [
    "output_file = open(\"project/project_output.txt\", mode = 'w')\n",
    "output_file.write(\"The following lines contain stats for the first 10 columns of the dataset.\\n\")\n",
    "lista = [c0,c1,c2,c3,c4,c5,c6,c7,c8,c9]\n",
    "for i in range(0,10):\n",
    "    a = stats(lista[i])\n",
    "    output_file.write(\"{}, the Minimun value is {}, the Maximun is {} and the Mean is {}\\n\".format(COLUMNS[i],a[0],a[1],a[2]))\n"
   ]
  },
  {
   "cell_type": "code",
   "execution_count": 14,
   "id": "6208af2d-6800-4021-ab01-71f40a270eba",
   "metadata": {
    "tags": []
   },
   "outputs": [],
   "source": [
    "output_file.write(\"The following lines contain stats for each of the seven wilderness areas.\\n\")\n",
    "\n",
    "import pprint # Imports the pretty print library\n",
    "pp = pprint.PrettyPrinter(indent=4) # Assigns a new variable name to a pretty print function so it is shorter to type\n",
    "\n",
    "areas = {\n",
    "    'Rawah Wilderness Area': [],\n",
    "    'Neota Wilderness Area': [],\n",
    "    'Comanche Peak Wilderness Area' : [],\n",
    "    'Cache la Poudre Wilderness Area' : []\n",
    "}\n",
    "\n",
    "file = open(\"project/covtype.data\")\n",
    "for rows in file: \n",
    "    line = rows.split(',')\n",
    "#for i in range(1,20): \n",
    " #   line = file.readline().split(',')    \n",
    "    if float(line[10]) == 1:\n",
    "         areas['Rawah Wilderness Area'].append(line[0:9])\n",
    "    elif float(line[11]) == 1:\n",
    "        areas['Neota Wilderness Area'].append(line[0:9])\n",
    "    elif float(line[12]) == 1:\n",
    "         areas['Comanche Peak Wilderness Area'].append(line[0:9])\n",
    "    elif float(line[13]) == 1:\n",
    "         areas['Cache la Poudre Wilderness Area'].append(line[0:9])"
   ]
  },
  {
   "cell_type": "code",
   "execution_count": 25,
   "id": "ee687b7d-81b0-49aa-b657-7dcd7a715448",
   "metadata": {},
   "outputs": [],
   "source": [
    "x = []\n",
    "keys = list(areas.keys())\n",
    "\n",
    "for k in keys:\n",
    "    length = len(areas[k])\n",
    "    for i in range(0,9):\n",
    "        #rint(i)\n",
    "        for j in range(1,length):\n",
    "            x.append(float(areas[k][j][i]))\n",
    "        a = stats(x)    \n",
    "        #print(a)\n",
    "        #print(k)\n",
    "        output_file.write(\"Wildernes area{}, Column {}, the Minimun value is {}, the Maximun is {} and the Mean is {}\\n\".format(k,COLUMNS[i],a[0],a[1],a[2]))\n",
    "\n",
    "output_file.close()"
   ]
  },
  {
   "cell_type": "code",
   "execution_count": 22,
   "id": "02df0bc5-7c34-410b-8cf6-8e0ee2495c3c",
   "metadata": {},
   "outputs": [
    {
     "data": {
      "text/plain": [
       "'Neota Wilderness Area'"
      ]
     },
     "execution_count": 22,
     "metadata": {},
     "output_type": "execute_result"
    }
   ],
   "source": [
    "leys = list(areas.keys())\n",
    "\n",
    "leys[1]"
   ]
  }
 ],
 "metadata": {
  "kernelspec": {
   "display_name": "Python 3 (ipykernel)",
   "language": "python",
   "name": "python3"
  },
  "language_info": {
   "codemirror_mode": {
    "name": "ipython",
    "version": 3
   },
   "file_extension": ".py",
   "mimetype": "text/x-python",
   "name": "python",
   "nbconvert_exporter": "python",
   "pygments_lexer": "ipython3",
   "version": "3.9.13"
  }
 },
 "nbformat": 4,
 "nbformat_minor": 5
}
