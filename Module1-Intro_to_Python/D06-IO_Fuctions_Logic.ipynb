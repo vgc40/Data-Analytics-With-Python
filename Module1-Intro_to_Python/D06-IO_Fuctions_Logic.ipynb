{
 "cells": [
  {
   "cell_type": "markdown",
   "id": "6b0ba07f-394e-4e76-9f7f-befeed08cfe1",
   "metadata": {},
   "source": [
    "# Day 6 Exercises: I/O, Functions and Logic"
   ]
  },
  {
   "cell_type": "markdown",
   "id": "692390ed-8fa2-40a0-99d2-8c3097521305",
   "metadata": {},
   "source": [
    "## Exercise #1: Open a File\n",
    "\n",
    "The file `data/article.bib` is a text file in [BibTex format](http://www.bibtex.org/).  BitTex is a special file format used to exchange information about publications such as scientific journal articles, for example.  That particular file has inforamtion about the this journal article:\n",
    "\n",
    "> Elisabeth Besson and Georgette Dellamonica and Jean Chopin and Kennexth R. Markham and Mujo Kim and Hen-Sik Koh and Hiroshi Fukami (1985). [C-glycosylflavones from Oryza sativa](https://www.sciencedirect.com/science/article/abs/pii/S0031942200831830), <i>Phytochemistry</i>. 24:5, pp1061-1064\n",
    "\n",
    "Open this file and print it.  The abstract has some Greek letters in it (e.g. β). Make sure those print correctly"
   ]
  },
  {
   "cell_type": "code",
   "execution_count": 9,
   "id": "b7a75e4e-8040-4dab-ba0a-06a0acb7b26b",
   "metadata": {},
   "outputs": [
    {
     "name": "stdout",
     "output_type": "stream",
     "text": [
      "@article{BESSON19851061,\n",
      "title = {C-glycosylflavones from Oryza sativa},\n",
      "journal = {Phytochemistry},\n",
      "volume = {24},\n",
      "number = {5},\n",
      "pages = {1061-1064},\n",
      "year = {1985},\n",
      "issn = {0031-9422},\n",
      "doi = {https://doi.org/10.1016/S0031-9422(00)83183-0},\n",
      "url = {https://www.sciencedirect.com/science/article/pii/S0031942200831830},\n",
      "author = {Elisabeth Besson and Georgette Dellamonica and Jean Chopin and Kenneth R. Markham and Mujo Kim and Hen-Sik Koh and Hiroshi Fukami},\n",
      "keywords = {, Gramineae, rice, planthopper feeding stimulants, -glycosylflavones, neocarlinoside, isoscoparin 2″-glucoside, isoscoparin 2″-(6-feruloylglucoside), isoscoparin 2″-(6-coumaroylglucoside).},\n",
      "abstract = {Eight flavone C-glycosides isolated from rice plant were found to act as probing stimulants for planthoppers. They have been identified as the known compounds schaftoside, neoschaftoside, carlinoside, isoorientin 2″-glucoside and the new constituents neocarlinoside (6-C-β-D-glucopyranosyl-8-C-β-L-arabinopyranosylluteolin), isoscoparin 2″-glucoside (chrysoeriol 6-C-β-D-(2-O-β-D-glucopyranosyl)glucopyranoside) and its 6‴-p-coumaric and ferulic acid esters.}\n",
      "}\n"
     ]
    }
   ],
   "source": [
    "bibtex_file = open(\"data/article.bib\", encoding=\"UTF-8\")\n",
    "file_read = bibtex_file.read()\n",
    "print(file_read)\n",
    "bibtex_file.close()"
   ]
  },
  {
   "cell_type": "markdown",
   "id": "cdfdbfdb-caf6-478f-b382-30e83b84d5e4",
   "metadata": {},
   "source": [
    "## Exercise #2: Splitting File Data\n",
    "Notice that this file is divided in to **key/value** pairs.  In a key/value pair there is an equal sign the seperates the **key** from its **value**.  For example, in this file you see a **key** named `author` and a **value** of `{Elisabeth Besson and Georgette Dellamonica and Jean Chopin and Kennexth R. Markham and Mujo Kim and Hen-Sik Koh and Hiroshi Fukami}`. In the BibTex format, the values have these curly braces around them.  Also, the entire file is surrounded by a `@article()` stanza.\n",
    "\n",
    "For this exercise, read each line of the `data/article.bib` file and separate the keys from the values and print all the keys. You can print them in whatever format you prefer.\n"
   ]
  },
  {
   "cell_type": "code",
   "execution_count": 25,
   "id": "dcbdd173-40d9-48f2-b57b-a076c49a3a46",
   "metadata": {},
   "outputs": [
    {
     "name": "stdout",
     "output_type": "stream",
     "text": [
      "title  \n",
      " journal  \n",
      " volume  \n",
      " number  \n",
      " pages  \n",
      " year  \n",
      " issn  \n",
      " doi  \n",
      " url  \n",
      " author  \n",
      " keywords \n"
     ]
    }
   ],
   "source": [
    "article_file = open(\"data/article.bib\", encoding=\"UTF-8\")\n",
    "header = article_file.readline().split(\"{\")\n",
    "line1 = article_file.readline().split(\"=\")[0]\n",
    "line2 = article_file.readline().split(\"=\")[0]\n",
    "line3 = article_file.readline().split(\"=\")[0]\n",
    "line4 = article_file.readline().split(\"=\")[0]\n",
    "line5 = article_file.readline().split(\"=\")[0]\n",
    "line6 = article_file.readline().split(\"=\")[0]\n",
    "line7 = article_file.readline().split(\"=\")[0]\n",
    "line8 = article_file.readline().split(\"=\")[0]\n",
    "line9 = article_file.readline().split(\"=\")[0]\n",
    "line10 = article_file.readline().split(\"=\")[0]\n",
    "line11 = article_file.readline().split(\"=\")[0]\n",
    "print(line1, \"\\n\",\n",
    "       line2, \"\\n\",\n",
    "       line3, \"\\n\",\n",
    "       line4, \"\\n\",\n",
    "       line5,\"\\n\",\n",
    "       line6,\"\\n\",\n",
    "       line7,\"\\n\",\n",
    "       line8,\"\\n\",line9,\"\\n\",line10,\"\\n\",line11)\n",
    "article_file.close()"
   ]
  },
  {
   "cell_type": "markdown",
   "id": "1ce97f38-c8a7-4f28-934a-fdc8a8e95e37",
   "metadata": {},
   "source": [
    "## Exercise #3: Write a funciton\n",
    "Use the code above but just like the practice exercise Assignment 7, create a function named `get_next_line`. This function should read a single line from the file and return a list of the key value pair.  Adjust your code above to use this function."
   ]
  },
  {
   "cell_type": "code",
   "execution_count": 33,
   "id": "de95aa14-83f3-40b3-a099-dc86d7272011",
   "metadata": {},
   "outputs": [
    {
     "name": "stdout",
     "output_type": "stream",
     "text": [
      "title \n",
      " journal \n",
      " volume \n",
      " number \n",
      " pages \n",
      " year \n",
      " issn \n",
      " doi \n",
      " url \n",
      " author \n",
      " keywords\n"
     ]
    }
   ],
   "source": [
    "article_file = open(\"data/article.bib\", encoding=\"UTF-8\")\n",
    "header = article_file.readline().split(\"{\")\n",
    "\n",
    "def get_next_line(file):\n",
    "    line = file.readline().split(\" = \") \n",
    "    return line \n",
    "\n",
    "key1,value1 = get_next_line(article_file)\n",
    "key2, value2 = get_next_line(article_file)\n",
    "key3, value3 = get_next_line(article_file)\n",
    "key4, value4 = get_next_line(article_file)\n",
    "key5, value5 = get_next_line(article_file)\n",
    "key6, value6 = get_next_line(article_file)\n",
    "key7, value7 = get_next_line(article_file)\n",
    "key8, value7 = get_next_line(article_file)\n",
    "key9, value9 = get_next_line(article_file)\n",
    "key10, value10 = get_next_line(article_file)\n",
    "key11, value11 = get_next_line(article_file)\n",
    "print(key1, \"\\n\",\n",
    "       key2, \"\\n\",\n",
    "       key3, \"\\n\",\n",
    "       key4, \"\\n\",\n",
    "       key5,\"\\n\",\n",
    "       key6,\"\\n\",\n",
    "       key7,\"\\n\",\n",
    "       key8,\"\\n\",key9,\"\\n\",key10,\"\\n\",key11)"
   ]
  },
  {
   "cell_type": "markdown",
   "id": "54a901f8-9c9c-401c-9505-ae84296cfee9",
   "metadata": {},
   "source": [
    "## Exercise #4: Formatting Output\n",
    "We want to convert the input in the BibTex file into a propertly formatted citation like this: \n",
    "\n",
    "> Elisabeth Besson and Georgette Dellamonica and Jean Chopin and Kennexth R. Markham and Mujo Kim and Hen-Sik Koh and Hiroshi Fukami (1985). C-glycosylflavones from Oryza sativa. Phytochemistry. 24:5, pp1061-1064\n",
    "\n",
    "Write a program that will:\n",
    "1. Read the BibTex file.\n",
    "2. Print to the screen the citation.\n",
    "3. Save to a file named `article_citation.txt` the citation.\n",
    "\n",
    "Cut-and-paste your code from Exercise #3 to get started."
   ]
  },
  {
   "cell_type": "code",
   "execution_count": 35,
   "id": "7dcbf67b-99b3-4ef4-9e40-31218948b1b5",
   "metadata": {},
   "outputs": [
    {
     "name": "stdout",
     "output_type": "stream",
     "text": [
      "Elisabeth Besson and Georgette Dellamonica and Jean Chopin and Kenneth R. Markham and Mujo Kim and Hen-Sik Koh and Hiroshi Fukami\n"
     ]
    }
   ],
   "source": [
    "article_file = open(\"data/article.bib\", encoding=\"UTF-8\")\n",
    "header = article_file.readline().split(\"{\")\n",
    "\n",
    "def get_next_line(file):\n",
    "    line = file.readline().split(\" = \") \n",
    "    return line \n",
    "\n",
    "key1,value1 = get_next_line(article_file)\n",
    "key2, value2 = get_next_line(article_file)\n",
    "key3, value3 = get_next_line(article_file)\n",
    "key4, value4 = get_next_line(article_file)\n",
    "key5, value5 = get_next_line(article_file)\n",
    "key6, value6 = get_next_line(article_file)\n",
    "key7, value7 = get_next_line(article_file)\n",
    "key8, value7 = get_next_line(article_file)\n",
    "key9, value9 = get_next_line(article_file)\n",
    "key10, value10 = get_next_line(article_file)\n",
    "key11, value11 = get_next_line(article_file)\n",
    "\n",
    "citation = print(value10.strip(\" {\").strip(\"},\\n\"))"
   ]
  },
  {
   "cell_type": "markdown",
   "id": "b8f1f181-1656-4ae5-b97f-4bbc3ac04aac",
   "metadata": {},
   "source": [
    "## Exercise #5: Logic\n",
    "Use the same code from Excerise #3, but for each key print a line that looks like the following:\n",
    "```\n",
    "title == author: False\n",
    "journal == author: False\n",
    "volume == author: False\n",
    "author == author: True\n",
    "```\n",
    "Each line will indicate if the key that was read is the `author` key. If so, it prints True, if not, it prints False"
   ]
  },
  {
   "cell_type": "code",
   "execution_count": null,
   "id": "6a9ac763-7124-4cd0-891a-e237a8bbecc6",
   "metadata": {},
   "outputs": [],
   "source": []
  },
  {
   "cell_type": "markdown",
   "id": "c43ecc9b-f657-4906-8d18-e2a7d8cff289",
   "metadata": {},
   "source": [
    "## Exercise #6: More with Logic\n",
    "Using the same code from Exercise #5, practice using different logic statements. Change the comparison operators to any of the operators shown in section 4 of the [Assignment 7 - File IO, Functions and Logic](A07-IO-Functions-Logic.ipynb#section-4). "
   ]
  },
  {
   "cell_type": "code",
   "execution_count": null,
   "id": "b395181c-8d95-49f1-a1cb-f0ffc1c929f8",
   "metadata": {},
   "outputs": [],
   "source": []
  },
  {
   "cell_type": "markdown",
   "id": "fd0177d4-f274-404c-8c85-5cae8d8b4713",
   "metadata": {},
   "source": [
    "## Exercise #7: Two Functions\n",
    "In the solution of Exercise #5 we are repeating using the same print fucntion. When we repeat the same code with different variations it is a good sign that we should write a function. Create a new function call `print_author_test`. Use this function to print the comparison. Decide how many arguments it should receive. Should it return anything? You should get identical results as that of Exercise #5."
   ]
  },
  {
   "cell_type": "code",
   "execution_count": null,
   "id": "f4e7662a-55d5-44c1-927a-0d13371a2327",
   "metadata": {},
   "outputs": [],
   "source": []
  },
  {
   "cell_type": "markdown",
   "id": "2cefb691-4c54-49a7-9947-807773ea78c7",
   "metadata": {},
   "source": [
    "## Exercise #8: Code Reduction\n",
    "Can you reduce the length of the code from Exercise #7?  Try to make the code shorter. "
   ]
  },
  {
   "cell_type": "code",
   "execution_count": null,
   "id": "902cd653-8a04-4aa8-a934-989dd4ee2fd3",
   "metadata": {},
   "outputs": [],
   "source": []
  }
 ],
 "metadata": {
  "kernelspec": {
   "display_name": "Python 3 (ipykernel)",
   "language": "python",
   "name": "python3"
  },
  "language_info": {
   "codemirror_mode": {
    "name": "ipython",
    "version": 3
   },
   "file_extension": ".py",
   "mimetype": "text/x-python",
   "name": "python",
   "nbconvert_exporter": "python",
   "pygments_lexer": "ipython3",
   "version": "3.9.13"
  }
 },
 "nbformat": 4,
 "nbformat_minor": 5
}
