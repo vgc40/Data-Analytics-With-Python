{
 "cells": [
  {
   "cell_type": "markdown",
   "id": "26c52e1c-eeb1-4f50-b0f1-1a7859f4dc3e",
   "metadata": {},
   "source": [
    "# Lesson 10 Class Exercises: Supervised Machine Learning"
   ]
  },
  {
   "cell_type": "markdown",
   "id": "5109cf4f-8218-47dd-943f-75d679cdabd6",
   "metadata": {
    "tags": []
   },
   "source": [
    "## Get Started\n",
    "Import the Numpy, Pandas, Matplotlib (matplotlib magic), Seaborn and sklearn packages. "
   ]
  },
  {
   "cell_type": "code",
   "execution_count": null,
   "id": "c28b15b0-ed07-4edb-bad6-9ccc50f4ccaa",
   "metadata": {},
   "outputs": [],
   "source": [
    "%matplotlib inline\n",
    "\n",
    "# Data Management\n",
    "import numpy as np\n",
    "import pandas as pd\n",
    "\n",
    "# Visualization\n",
    "import seaborn as sns\n",
    "import matplotlib.pyplot as plt\n",
    "\n",
    "# Machine learning\n",
    "from sklearn import model_selection\n",
    "from sklearn import preprocessing\n",
    "from sklearn.metrics import accuracy_score\n",
    "from sklearn.metrics import confusion_matrix\n",
    "from sklearn.metrics import classification_report\n",
    "from sklearn.linear_model import LogisticRegression\n",
    "from sklearn.svm import SVC, LinearSVC\n",
    "from sklearn.ensemble import RandomForestClassifier\n",
    "from sklearn.neighbors import KNeighborsClassifier\n",
    "from sklearn.naive_bayes import GaussianNB\n",
    "from sklearn.linear_model import Perceptron\n",
    "from sklearn.linear_model import SGDClassifier\n",
    "from sklearn.tree import DecisionTreeClassifier\n",
    "from sklearn.discriminant_analysis import LinearDiscriminantAnalysis\n",
    "from sklearn.ensemble import RandomForestClassifier\n",
    "\n",
    "from sklearn.preprocessing import OneHotEncoder"
   ]
  },
  {
   "cell_type": "markdown",
   "id": "6fe34f4e-d455-4048-8182-59629bbad801",
   "metadata": {},
   "source": [
    "Import the titanic dataset in the `data/titanic_train.csv`"
   ]
  },
  {
   "cell_type": "code",
   "execution_count": null,
   "id": "9ec7acb9-d049-491e-9a34-12d1a5eb715f",
   "metadata": {},
   "outputs": [],
   "source": [
    "titanic = pd.read_csv('data/titanic_train.csv')\n",
    "titanic.head()"
   ]
  },
  {
   "cell_type": "markdown",
   "id": "c0feb039-01bd-4af1-9d88-c8caa69444f5",
   "metadata": {},
   "source": [
    "What columns do we have?"
   ]
  },
  {
   "cell_type": "code",
   "execution_count": null,
   "id": "b10509cd-ffe5-4e44-bcef-2bd6da2b058c",
   "metadata": {},
   "outputs": [],
   "source": []
  },
  {
   "cell_type": "markdown",
   "id": "244df3a5-5887-42dc-bfe3-2e89958d0baa",
   "metadata": {},
   "source": [
    "The following describes the meaning of each column:\n",
    "- PassengerId: a unique numeric Id, one for each passenger\n",
    "- Survived - Survival (0 = No; 1 = Yes)\n",
    "- Pclass - Passenger Class (1 = 1st; 2 = 2nd; 3 = 3rd)\n",
    "- Name - Name\n",
    "- Sex - The sex of the passenger\n",
    "- Age - The age of the passenger\n",
    "- SibSp - Number of Siblings/Spouses Aboard\n",
    "- Parch - Number of Parents/Children Aboard\n",
    "- Ticket - Ticket Number\n",
    "- Fare - Passenger Fare\n",
    "- Cabin - Cabin\n",
    "- Embarked - Port of Embarkation (C = Cherbourg; Q = Queenstown; S = Southampton)\n"
   ]
  },
  {
   "cell_type": "markdown",
   "id": "10bc9c17-07cb-4673-a16b-91a91e878311",
   "metadata": {},
   "source": [
    "How many samples (observations) do we have?"
   ]
  },
  {
   "cell_type": "code",
   "execution_count": null,
   "id": "ddc2f3d2-9245-4d4e-9f0f-a8c22f2a5e6e",
   "metadata": {},
   "outputs": [],
   "source": []
  },
  {
   "cell_type": "markdown",
   "id": "6e6d6373-030b-43fe-ba2a-74db8e66dd34",
   "metadata": {},
   "source": [
    "Are the data types for the columns in the dataframe appropriate for the type of data in each column?"
   ]
  },
  {
   "cell_type": "code",
   "execution_count": null,
   "id": "7003f619-ba00-4604-a8d2-6094f91ae769",
   "metadata": {},
   "outputs": [],
   "source": []
  },
  {
   "cell_type": "markdown",
   "id": "dff53c42-9cc0-4e1f-881c-fa1bf802b03d",
   "metadata": {},
   "source": [
    "If we want to use the `sex` as a variable in our machine learning model we need to convert it to numeric and remember that ML methods do better when categorical variables are one-hot encoded such that a new column is added for each category and a 0 or 1 is entered in the row if the category applies to the row.  We can use the [processing.OneHotEncode()](https://scikit-learn.org/stable/modules/generated/sklearn.preprocessing.OneHotEncoder.html) function in the following way:\n",
    "\n",
    "```python\n",
    "# Initialize a OneHotEncoder object.\n",
    "enc = OneHotEncoder()\n",
    "\n",
    "# Fit the encoder with the data. This determines the unique categories. \n",
    "# Be sure to pass a Pandas DataFrame (not a Series):\n",
    "enc.fit(titanic[['Sex']])\n",
    "\n",
    "# Now transform the `sex` column. \n",
    "# Be sure to pass a Pandas DataFrame (not a Series):\n",
    "enc_vals = enc.transform(titanic[['Sex']]).astype(int).toarray()\n",
    "\n",
    "# Convert the numpy array to a dataframe \n",
    "enc_df = pd.DataFrame(enc_vals, columns=('Male', 'Female'))\n",
    "\n",
    "# Add the new columns to the dataset\n",
    "titanic = pd.concat((titanic, enc_df), axis=1)\n",
    "```"
   ]
  },
  {
   "cell_type": "code",
   "execution_count": null,
   "id": "96792655-77ce-490e-a222-045c8f4df770",
   "metadata": {},
   "outputs": [],
   "source": []
  },
  {
   "cell_type": "markdown",
   "id": "e5088a2c-fe64-4f93-a26f-7e117666c53e",
   "metadata": {},
   "source": [
    "Any missing values?"
   ]
  },
  {
   "cell_type": "code",
   "execution_count": null,
   "id": "2131ad13-c709-48ab-8b01-c993edad52a8",
   "metadata": {},
   "outputs": [],
   "source": []
  },
  {
   "cell_type": "markdown",
   "id": "229f7237-75bc-4c29-a732-5518ec891ac3",
   "metadata": {},
   "source": [
    "Any duplicated data?"
   ]
  },
  {
   "cell_type": "code",
   "execution_count": null,
   "id": "774b48a5-bee0-40aa-ba26-d3258aba2b5a",
   "metadata": {},
   "outputs": [],
   "source": []
  },
  {
   "cell_type": "markdown",
   "id": "562b0b1c-b868-40dc-b689-446e54e4efd4",
   "metadata": {},
   "source": [
    "How many samples do we have per outcome group?"
   ]
  },
  {
   "cell_type": "code",
   "execution_count": null,
   "id": "1028dcbe-bab3-4c43-915a-1d0bf4ac0dcc",
   "metadata": {},
   "outputs": [],
   "source": []
  },
  {
   "cell_type": "markdown",
   "id": "871f8561-a5cf-468c-9b9a-85224c2ab6fe",
   "metadata": {},
   "source": [
    "Explore the distributions of numeric columns using the Pandas `Dataframe.hist()` function"
   ]
  },
  {
   "cell_type": "code",
   "execution_count": null,
   "id": "d096b2dd-54a7-41c6-8834-d8a3cfe67ff7",
   "metadata": {},
   "outputs": [],
   "source": []
  },
  {
   "cell_type": "markdown",
   "id": "e30e410c-6e2b-4f35-be9e-20ec6ada3946",
   "metadata": {},
   "source": [
    "Create pairplot to explore correlation with the existing data. color the points by those that survived."
   ]
  },
  {
   "cell_type": "code",
   "execution_count": null,
   "id": "324973b0-0c69-492a-ac98-1275d9765fbb",
   "metadata": {},
   "outputs": [],
   "source": []
  },
  {
   "cell_type": "markdown",
   "id": "e749f8ff-ed14-449a-9212-eca343952472",
   "metadata": {},
   "source": [
    "Generate a heatmap of the pair-wise correlation values for this dataset"
   ]
  },
  {
   "cell_type": "code",
   "execution_count": null,
   "id": "710dbe8c-2290-4c2d-818b-d8cf69ceab96",
   "metadata": {},
   "outputs": [],
   "source": []
  },
  {
   "cell_type": "markdown",
   "id": "abac4b9c-8656-4f82-bfc7-6dc4585c4065",
   "metadata": {},
   "source": [
    "Aside from the convertion of `sex` to a one-hot encoding do we need to do any other cleaning prior to running our models?"
   ]
  },
  {
   "cell_type": "raw",
   "id": "2f97e7dc-3f10-4dee-9b4a-dafcead1d7e7",
   "metadata": {},
   "source": []
  },
  {
   "cell_type": "markdown",
   "id": "01840c81-419a-4b0b-bcd5-e006c8d89f15",
   "metadata": {},
   "source": [
    "Perform the cleaning:"
   ]
  },
  {
   "cell_type": "code",
   "execution_count": null,
   "id": "fe927500-4f07-4ea8-9edf-6b15c7f1daf7",
   "metadata": {},
   "outputs": [],
   "source": []
  },
  {
   "cell_type": "markdown",
   "id": "a8ef4cc7-404a-4684-a32d-af6a0a8f696d",
   "metadata": {},
   "source": [
    "## Exercise 5: Use SML Classification Models \n",
    "\n",
    "First, separate out the outcome (dependent) variable and our observed (independent) data variables. Save these into variables named `X` and `Y`."
   ]
  },
  {
   "cell_type": "code",
   "execution_count": null,
   "id": "b02012b0-3dcf-49e4-a119-6fef198656d0",
   "metadata": {},
   "outputs": [],
   "source": []
  },
  {
   "cell_type": "markdown",
   "id": "c6e12e10-5dba-4a0b-b326-bb34be783db0",
   "metadata": {},
   "source": [
    "Normalize the observed data. Be sure to use the [normalization strategy](https://scikit-learn.org/stable/modules/classes.html#module-sklearn.preprocessing) best suited for the observations about the data."
   ]
  },
  {
   "cell_type": "code",
   "execution_count": null,
   "id": "48179cf8-e77b-449d-9d1b-911524dd80cd",
   "metadata": {},
   "outputs": [],
   "source": []
  },
  {
   "cell_type": "markdown",
   "id": "ef7edb57-45be-4d84-8fff-dfcdb0f63009",
   "metadata": {},
   "source": [
    "Generate the training set such that 20% of the data is left for testing and 80% for training.   Name the variables with the training data as `Xt` and `Yt` respectively. Name the data used for testing/validation as `Xv` and `Yv`"
   ]
  },
  {
   "cell_type": "code",
   "execution_count": null,
   "id": "e597b2f2-9b5d-4649-864b-66a9158ad338",
   "metadata": {},
   "outputs": [],
   "source": []
  },
  {
   "cell_type": "markdown",
   "id": "e89a6471-3a57-4b0e-b81c-b098b40ad0d3",
   "metadata": {},
   "source": [
    "Create a k-fold cross-validation strategy object to be used by the model that will be used to split the training data into 10 equal parts."
   ]
  },
  {
   "cell_type": "code",
   "execution_count": null,
   "id": "6060ffc4-2fa3-458b-b811-b7f4c65b9c77",
   "metadata": {},
   "outputs": [],
   "source": []
  },
  {
   "cell_type": "markdown",
   "id": "6eb838e6-9b60-4f00-a696-bbe9455904b4",
   "metadata": {},
   "source": [
    "Use the following array to store results:\n",
    "```python\n",
    "results = {\n",
    "    'SVC' : np.zeros(10),\n",
    "    'RandomForestClassifier': np.zeros(10)\n",
    "}\n",
    "```"
   ]
  },
  {
   "cell_type": "code",
   "execution_count": null,
   "id": "91fc456c-d1f3-4b25-9575-e46713b1214c",
   "metadata": {},
   "outputs": [],
   "source": []
  },
  {
   "cell_type": "markdown",
   "id": "82cafb22-5eeb-4b30-bd07-29623b0b6f2d",
   "metadata": {},
   "source": [
    "Let's use the `RandomForestClassifier` with this dataset"
   ]
  },
  {
   "cell_type": "code",
   "execution_count": null,
   "id": "951ee50a-8413-4001-851c-e5365b0b64a0",
   "metadata": {},
   "outputs": [],
   "source": []
  },
  {
   "cell_type": "markdown",
   "id": "d60da58e-f2bc-4e32-b13e-b9c38cac5f48",
   "metadata": {},
   "source": [
    "for comparision, let's use the SVC method with a linear kernal\n",
    "```Python\n",
    "alg = SVC(gamma='auto', kernel='linear')\n",
    "```"
   ]
  },
  {
   "cell_type": "code",
   "execution_count": null,
   "id": "216730cc-b582-40bd-8d1f-15bc2816058d",
   "metadata": {},
   "outputs": [],
   "source": []
  },
  {
   "cell_type": "markdown",
   "id": "ae8fcee3-f9b0-407c-81be-15b0c6f6e0da",
   "metadata": {},
   "source": [
    "Plot the results of each of the models. Which performed best?"
   ]
  },
  {
   "cell_type": "code",
   "execution_count": null,
   "id": "1d1077d6-e70d-4178-a1ef-e0b95aabdd70",
   "metadata": {},
   "outputs": [],
   "source": []
  },
  {
   "cell_type": "markdown",
   "id": "f5c0076f-e19c-47a6-a21d-c2cacb08558b",
   "metadata": {},
   "source": [
    "Create a new object of the classifier that performed best:"
   ]
  },
  {
   "cell_type": "code",
   "execution_count": null,
   "id": "de8da9ab-f742-4988-91a3-031b69a5f8d0",
   "metadata": {},
   "outputs": [],
   "source": []
  },
  {
   "cell_type": "markdown",
   "id": "c4eed3e8-aefa-4379-87d2-dc8d0d340c98",
   "metadata": {},
   "source": [
    "Create a new model using all of the training data."
   ]
  },
  {
   "cell_type": "code",
   "execution_count": null,
   "id": "4f6d0a5d-74b8-449f-be34-9614c8959c06",
   "metadata": {},
   "outputs": [],
   "source": []
  },
  {
   "cell_type": "markdown",
   "id": "06fde61d-65dd-4a7b-bf08-f4fc4b805550",
   "metadata": {},
   "source": [
    "Using the testing data, predict the survivability.  Save the result in a new variable named `predictions`"
   ]
  },
  {
   "cell_type": "code",
   "execution_count": null,
   "id": "12fd4df4-aa6a-4054-ab24-1e10d7218580",
   "metadata": {},
   "outputs": [],
   "source": []
  },
  {
   "cell_type": "markdown",
   "id": "8d0388b4-1aa4-457f-871f-7c09b21efefd",
   "metadata": {},
   "source": [
    "Briefly, let's view the contents of the predictions array."
   ]
  },
  {
   "cell_type": "code",
   "execution_count": null,
   "id": "cb20c003-d1eb-4cf2-ace4-b6957c7dd0ef",
   "metadata": {},
   "outputs": [],
   "source": []
  },
  {
   "cell_type": "markdown",
   "id": "63cb535f-6622-4418-95bb-dd305a04f6bb",
   "metadata": {},
   "source": [
    "What is the overall accuracy of the predictions?"
   ]
  },
  {
   "cell_type": "code",
   "execution_count": null,
   "id": "11586120-d398-4578-94bb-a7f190a2468c",
   "metadata": {},
   "outputs": [],
   "source": []
  },
  {
   "cell_type": "markdown",
   "id": "2b75cf1e-fc40-4759-8b30-b512d69901b9",
   "metadata": {},
   "source": [
    "Create the confusion matrix and use the Seaborn [heatmap](https://seaborn.pydata.org/generated/seaborn.heatmap.html) function to explore how well the model worked. (Note, this may take awhile to create). For the heatmap, be sure to\n",
    "+ Show the values of the confusion matrix in the cells of the heatmap\n",
    "+ Set the x-axis and y-axis labels."
   ]
  },
  {
   "cell_type": "code",
   "execution_count": null,
   "id": "27132f31-1667-4d10-be56-56177570b692",
   "metadata": {},
   "outputs": [],
   "source": []
  },
  {
   "cell_type": "markdown",
   "id": "76781345-8763-46f2-8da5-dd78c1495de4",
   "metadata": {},
   "source": [
    "Finally, generate and print the classification report"
   ]
  },
  {
   "cell_type": "code",
   "execution_count": null,
   "id": "ed48d719-ba52-4c69-ba6f-712c483802e9",
   "metadata": {},
   "outputs": [],
   "source": []
  },
  {
   "cell_type": "markdown",
   "id": "a3731909-b496-4e69-9351-223271877100",
   "metadata": {},
   "source": [
    "How do you tell which variables were most helpful in performance of the model?  It depends on the algorithm used.  For the RandomForest model you will want to print the `feature_importances_` attribute of the algorithm object. Because we used a linear model for 'SVC' we can get the model coefficients with teh `coef_` attribute. For example:\n",
    "\n",
    "For SVC\n",
    "```python\n",
    "feature_scores = alg.coef_\n",
    "```\n",
    "\n",
    "For RandomForest\n",
    "```python\n",
    "feature_scores = alg.feature_importances_\n",
    "```\n",
    "\n",
    "Try printing the appropriate attribute for the model you ran:"
   ]
  },
  {
   "cell_type": "code",
   "execution_count": null,
   "id": "8a4939d3-ab5e-4c92-b4de-cdc805b5d63d",
   "metadata": {},
   "outputs": [],
   "source": []
  },
  {
   "cell_type": "markdown",
   "id": "b02a2ffa-c6ad-4c31-bf77-f80013d77ba9",
   "metadata": {},
   "source": [
    "In the array returned, the scores are orderd in the same order that variables were provided to the model. The larger the coefficient or the importance score the more effect the variable has in prediction of outcome. \n",
    "\n",
    "What variables were most important for predicting survivability?"
   ]
  },
  {
   "cell_type": "raw",
   "id": "c5bb2527-f436-4469-b864-87e1cf2b9f1e",
   "metadata": {},
   "source": []
  }
 ],
 "metadata": {
  "kernelspec": {
   "display_name": "Python 3 (ipykernel)",
   "language": "python",
   "name": "python3"
  },
  "language_info": {
   "codemirror_mode": {
    "name": "ipython",
    "version": 3
   },
   "file_extension": ".py",
   "mimetype": "text/x-python",
   "name": "python",
   "nbconvert_exporter": "python",
   "pygments_lexer": "ipython3",
   "version": "3.9.13"
  }
 },
 "nbformat": 4,
 "nbformat_minor": 5
}
