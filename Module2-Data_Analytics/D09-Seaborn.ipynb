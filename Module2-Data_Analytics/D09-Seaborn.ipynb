{
 "cells": [
  {
   "cell_type": "markdown",
   "id": "adefd6e9-8387-4ebf-9756-230862bdc265",
   "metadata": {},
   "source": [
    "# Lesson 8 Class Exercises: Seaborn"
   ]
  },
  {
   "cell_type": "markdown",
   "id": "97235137-de0f-46bd-be8a-0dbf472f7287",
   "metadata": {},
   "source": [
    "## Get Started\n",
    "Import the Numpy, Pandas, Matplotlib and Seaborn packages. Be sure to and the Jupyter notebook Matplotlib magic"
   ]
  },
  {
   "cell_type": "code",
   "execution_count": null,
   "id": "8c145daf-1651-4acc-a884-78e911da389b",
   "metadata": {},
   "outputs": [],
   "source": [
    "import numpy as np\n",
    "import pandas as pd\n",
    "import matplotlib.pyplot as plt\n",
    "import seaborn as sns\n",
    "\n",
    "%matplotlib inline"
   ]
  },
  {
   "cell_type": "markdown",
   "id": "851d2a2f-ba59-48e9-bf49-0d231a360f5e",
   "metadata": {},
   "source": [
    "## Exercise 1: Pairwise relationships"
   ]
  },
  {
   "cell_type": "markdown",
   "id": "a12d03e1-c839-409c-9097-a2a5c69d1a62",
   "metadata": {},
   "source": [
    "Load the `geyser` dataset from Seaborn. The `geyser` dataset contains wait times between eruptions and the duration of the eruption for the Old Faithful geyser in Yellowstone National Park, Wyoming, USA.  "
   ]
  },
  {
   "cell_type": "code",
   "execution_count": null,
   "id": "0ee1e08b-7869-4520-9095-0fa2510f26cd",
   "metadata": {},
   "outputs": [],
   "source": [
    "geyser = sns.load_dataset('geyser')\n",
    "geyser.head(5)"
   ]
  },
  {
   "cell_type": "markdown",
   "id": "246965f2-8f3c-4db9-9f4d-3d466b42f318",
   "metadata": {},
   "source": [
    "Use seaborn to create a plot that looks like the following:\n",
    "\n",
    "<img src=\"media/D09-Geyser-pairplot.png\" width=\"50%\">"
   ]
  },
  {
   "cell_type": "code",
   "execution_count": null,
   "id": "474d98c8-3e8d-4067-b479-20069af2df42",
   "metadata": {},
   "outputs": [],
   "source": []
  },
  {
   "cell_type": "markdown",
   "id": "28cbc7c4-681d-4884-a9c4-acb19c7ec818",
   "metadata": {},
   "source": [
    "Generate a plot that only shows the scatterplot of the \"duration\" and \"waiting\" variables. (Hint: use the `replot` function)"
   ]
  },
  {
   "cell_type": "code",
   "execution_count": null,
   "id": "727c919e-b79b-4e2d-b015-573bb0a45244",
   "metadata": {},
   "outputs": [],
   "source": []
  },
  {
   "cell_type": "markdown",
   "id": "59ba4c4d-e3f2-43e7-8932-f681864d56fe",
   "metadata": {},
   "source": [
    "Load the Seaborn `tips` data"
   ]
  },
  {
   "cell_type": "code",
   "execution_count": null,
   "id": "144cf4f8-e7c0-4c4b-b7af-03e538860af5",
   "metadata": {},
   "outputs": [],
   "source": []
  },
  {
   "cell_type": "markdown",
   "id": "4e4d48a1-3961-419d-aa75-c4edd2448ad6",
   "metadata": {},
   "source": [
    "Generate a pairplot where points are colored by `sex`. Is there any correlation between "
   ]
  },
  {
   "cell_type": "code",
   "execution_count": null,
   "id": "3c1f9ce9-6192-4103-8f7f-469d05915c7a",
   "metadata": {},
   "outputs": [],
   "source": []
  },
  {
   "cell_type": "markdown",
   "id": "6395cb4d-575f-4a11-be86-df20c9f12d17",
   "metadata": {},
   "source": [
    "## Exercise 2: Line Plots"
   ]
  },
  {
   "cell_type": "markdown",
   "id": "bb153c38-9f09-42e3-9639-f6f614c597f9",
   "metadata": {},
   "source": [
    "Load the Seaborn `frmi` dataset.  "
   ]
  },
  {
   "cell_type": "code",
   "execution_count": null,
   "id": "b4bf370f-a854-4228-9025-0381c1ca15cc",
   "metadata": {},
   "outputs": [],
   "source": []
  },
  {
   "cell_type": "markdown",
   "id": "1902ac7e-e71e-4720-b86f-c85e0ffae4f7",
   "metadata": {},
   "source": [
    "The following are brief explanations of the different columns.\n",
    "\n",
    "- `region`:\n",
    "    - `frontal`: the frontal lobes are important for voluntary movement, expressive language and for managing higher level executive functions\n",
    "    - `parietal`: the parietal lobe processes sensory information for cognitive purposes and helps coordinate spatial relations.\n",
    "- `event`:\n",
    "    - `cue`: a pulse cue from an implanted electrode\n",
    "    - `stim`:  a stimulus cue from an implated electrode\n",
    "\n",
    "- `signal`: the numerical value for the MRI signal\n",
    "\n",
    "Use the [sns.lineplot()](https://seaborn.pydata.org/generated/seaborn.lineplot.html) function to generate a line graph that looks like the following:\n",
    "\n",
    "<img src=\"./media/D09-fmri-lineplot.png\" width=\"50%\"> \n",
    "\n",
    "Hint: use the `hue` and `style` arguments"
   ]
  },
  {
   "cell_type": "code",
   "execution_count": null,
   "id": "aafa143d-acbc-43c5-b5c4-c06a18609fe9",
   "metadata": {},
   "outputs": [],
   "source": []
  },
  {
   "cell_type": "markdown",
   "id": "fd1f5128-e0cb-4d8d-819e-722eecfd1fee",
   "metadata": {},
   "source": [
    "## Exercise 3: Boxplots\n",
    "Generate a boxplot using the [sns.boxplot()](https://seaborn.pydata.org/generated/seaborn.boxplot.html) function where that compares the events between the two regions. It should look like the following:\n",
    "\n",
    "<img src=\"media/D09-frmi-boxplot1.png\" width=\"50%\">"
   ]
  },
  {
   "cell_type": "code",
   "execution_count": null,
   "id": "e185e12a-eaa0-415a-9a76-51241e135686",
   "metadata": {},
   "outputs": [],
   "source": []
  },
  {
   "cell_type": "markdown",
   "id": "b2dcfdc2-dbbb-4926-8663-044f2427e666",
   "metadata": {},
   "source": [
    "Next, create a new boxplot with a separate set of boxplots per time point. Create a separate plot for each region. The plots should look like the following:\n",
    "\n",
    "<img src=\"media/D09-frmi-boxplot2.png\" width=\"50%\">\n",
    "<img src=\"media/D09-frmi-boxplot3.png\" width=\"50%\">\n"
   ]
  },
  {
   "cell_type": "markdown",
   "id": "1f534f78-ee22-4700-81ba-846bf86f0f8c",
   "metadata": {},
   "source": [
    "In Seaborn, you add a title to a figure by using the `set_title()` function.  For example:\n",
    "\n",
    "```python\n",
    "plot = sns.boxplot(...)\n",
    "plot.set_title('Title String');\n",
    "```"
   ]
  },
  {
   "cell_type": "code",
   "execution_count": null,
   "id": "c3548093-f4b0-4ecd-b77a-8533cde0e9eb",
   "metadata": {},
   "outputs": [],
   "source": []
  },
  {
   "cell_type": "code",
   "execution_count": null,
   "id": "8aa21fb3-94c5-4f28-a4f3-41a1d76d9540",
   "metadata": {},
   "outputs": [],
   "source": []
  },
  {
   "cell_type": "markdown",
   "id": "aa6d6190-0e56-42b0-82d4-1bd263228442",
   "metadata": {},
   "source": [
    "## Exercise 4: Violin Plots"
   ]
  },
  {
   "cell_type": "markdown",
   "id": "0013ecb9-7df4-4593-82be-89accceffd4a",
   "metadata": {},
   "source": [
    "Now let's recreate the frontal plot but insted of a box-and-wisker plot let's create a violin plot using the [sns.violinplot()](https://seaborn.pydata.org/generated/seaborn.violinplot.html) function.  This plot will require more room.  So the default size will not look quite right.  We can expland the size of a plot by using Matplotlib functions. Remember that Seaborn uses Matplotlib behind the scenes so we can affect Seaborn plotting by using matplotlib functions. For example, to change a figure size to make it wider:\n",
    "\n",
    "```python\n",
    "fig, ax = plt.subplots(figsize=(10, 4))\n",
    "```"
   ]
  },
  {
   "cell_type": "code",
   "execution_count": null,
   "id": "3b75358c-32c8-4ad9-92ca-2a53475b604f",
   "metadata": {},
   "outputs": [],
   "source": []
  },
  {
   "cell_type": "markdown",
   "id": "ff21579e-160d-4a56-b8e1-16ec2cdb961a",
   "metadata": {},
   "source": [
    "## Exercise 5: Density Plots"
   ]
  },
  {
   "cell_type": "markdown",
   "id": "faeffd29-8fc5-46fc-94aa-769a80d33469",
   "metadata": {},
   "source": [
    "Using the the Seaborn `tips` dataset from Exercise #1 Use the [sns.kdeplot()](https://seaborn.pydata.org/generated/seaborn.kdeplot.html) function to generate a density plot that compares the distribution of tip amounts between different party sizes"
   ]
  },
  {
   "cell_type": "code",
   "execution_count": null,
   "id": "7fcf4996-0856-4584-9547-9ef8f82962d5",
   "metadata": {},
   "outputs": [],
   "source": []
  },
  {
   "cell_type": "markdown",
   "id": "ed0ebe02-d2d4-416a-90d0-a4b127d6727d",
   "metadata": {},
   "source": [
    "Now adjust the plot with the following:\n",
    "\n",
    "- Color the area under each curve (hint: see the `fill` argument). \n",
    "- Make it so that there is transparency between overlapping curves so that you can still see all of them (hint: see the `alpha` argument)\n",
    "- Scale each density plot so that the number of observations does not bias the size (hint: see the `common_norm` argument).\n",
    "- Use a color palette that makes it easier to see the different distributions. Some matplotlib colors can be found [here](https://matplotlib.org/stable/gallery/color/colormap_reference.html).\n",
    "\n",
    "It should look similar to the following (although with the colors of your choice):\n",
    "\n",
    "<img src=\"./media/D09-tips-kde1.png\" width=\"50%\">"
   ]
  },
  {
   "cell_type": "code",
   "execution_count": null,
   "id": "42ef1f3a-3e79-4cf7-b1cf-98b9eebb10b7",
   "metadata": {},
   "outputs": [],
   "source": []
  },
  {
   "cell_type": "markdown",
   "id": "fabecca2-6f14-4441-ab5b-fc18a1a46c96",
   "metadata": {},
   "source": [
    "Using the geyser data from example 1, let's create a 2D density plot.  For the geyers data we have the `duration` of the eruption and the `waiting` time between eruptions. Let's see what the 2D density distribution looks like with `waiting` as the x-axis and `duration` as the y axis.  It should look like the following:\n",
    "\n",
    "<img src=\"./media/D09-geyser-kde1.png\" width=\"50%\">"
   ]
  },
  {
   "cell_type": "code",
   "execution_count": null,
   "id": "f72d25de-22ab-4a2d-9be2-c811181fe5dc",
   "metadata": {},
   "outputs": [],
   "source": []
  },
  {
   "cell_type": "markdown",
   "id": "d357131a-cc2a-43f4-8b13-f3cc9db8e3a6",
   "metadata": {},
   "source": [
    "Similar to the 1D density plots we can fill and color the dnesity plot.  Create a new plot that has the following:\n",
    "- The eruption kind (e.g. long and short) is a different color\n",
    "- The area within the curves is filled with color\n",
    "- There is transparency so that overlapping regions can be seen.\n",
    "\n",
    "The plot should look like the following:\n",
    "\n",
    "<img src=\"./media/D09-geyser-kde2.png\" width=\"50%\">"
   ]
  },
  {
   "cell_type": "code",
   "execution_count": null,
   "id": "ce1a7ffd-2fb7-4c0c-8663-1c1149c2027f",
   "metadata": {},
   "outputs": [],
   "source": []
  },
  {
   "cell_type": "markdown",
   "id": "bca3679e-3cfa-4279-be10-1bdb2516dc91",
   "metadata": {},
   "source": [
    "## Exercise 6: Heatmaps"
   ]
  },
  {
   "cell_type": "markdown",
   "id": "91c3fd9f-04cc-43c5-a396-9e0ca0379eec",
   "metadata": {},
   "source": [
    "Load the Seaborn `flights` dataset. "
   ]
  },
  {
   "cell_type": "code",
   "execution_count": null,
   "id": "5d6e6ffc-95e1-4bb1-8314-726c86955fd0",
   "metadata": {},
   "outputs": [],
   "source": []
  },
  {
   "cell_type": "markdown",
   "id": "dd86a413-e263-4c6f-815a-06a408faee58",
   "metadata": {},
   "source": [
    "Pivot the table so that years are columns, the month is an index and the passengers are the cell values"
   ]
  },
  {
   "cell_type": "code",
   "execution_count": null,
   "id": "ba8b3eae-49f9-4272-bd54-e491570df91f",
   "metadata": {},
   "outputs": [],
   "source": []
  },
  {
   "cell_type": "markdown",
   "id": "a90e4f9a-640d-4a27-8ede-d22a2a30d70f",
   "metadata": {},
   "source": [
    "Now generate a heatmap using the [sns.heatmap()](https://seaborn.pydata.org/generated/seaborn.heatmap.html) function showing the passengers "
   ]
  },
  {
   "cell_type": "code",
   "execution_count": null,
   "id": "9b55280c-b0e6-4fbd-a043-69e1fdcdf660",
   "metadata": {},
   "outputs": [],
   "source": []
  },
  {
   "cell_type": "markdown",
   "id": "f934765c-0b89-4f5f-8809-a6e9ec4bf051",
   "metadata": {},
   "source": [
    "In the heatmap above, the pattern of changes in passengers is easily seen because the columns and rows are ordered by month and year.  But somtimes when there is no clear way to organize data to observe a pattern we want to cluster gropus of observations that have similarity with others.  To do this we can use the [sns.clustermap()](https://seaborn.pydata.org/generated/seaborn.clustermap.html) function.  To explore this plot, lets first load the Seaborn `iris` dataset."
   ]
  },
  {
   "cell_type": "code",
   "execution_count": null,
   "id": "ccc56ceb-958e-4704-8919-74b342c87d85",
   "metadata": {},
   "outputs": [],
   "source": []
  },
  {
   "cell_type": "markdown",
   "id": "768786a5-6d14-46ff-b8e2-009f8383d2bd",
   "metadata": {},
   "source": [
    "Now call the `sns.clustermap()` function using only the numeric columns of the `iris` dataset"
   ]
  },
  {
   "cell_type": "code",
   "execution_count": null,
   "id": "be6b9488-c578-4cb6-bed6-e79d0d36b374",
   "metadata": {},
   "outputs": [],
   "source": []
  }
 ],
 "metadata": {
  "kernelspec": {
   "display_name": "Python 3 (ipykernel)",
   "language": "python",
   "name": "python3"
  },
  "language_info": {
   "codemirror_mode": {
    "name": "ipython",
    "version": 3
   },
   "file_extension": ".py",
   "mimetype": "text/x-python",
   "name": "python",
   "nbconvert_exporter": "python",
   "pygments_lexer": "ipython3",
   "version": "3.9.13"
  }
 },
 "nbformat": 4,
 "nbformat_minor": 5
}
